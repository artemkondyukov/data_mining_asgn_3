{
 "cells": [
  {
   "cell_type": "code",
   "execution_count": 2,
   "metadata": {
    "collapsed": false
   },
   "outputs": [],
   "source": [
    "from matplotlib import pyplot as plt\n",
    "import numpy as np\n",
    "import pandas as pd\n",
    "import seaborn as sns\n",
    "from sklearn.cluster import k_means, DBSCAN\n",
    "from sklearn.neighbors import KernelDensity\n",
    "from sklearn.cross_validation import train_test_split\n",
    "\n",
    "%matplotlib inline"
   ]
  },
  {
   "cell_type": "code",
   "execution_count": 3,
   "metadata": {
    "collapsed": true
   },
   "outputs": [],
   "source": [
    "data = pd.read_excel(\"./data/online_retail.xlsx\")"
   ]
  },
  {
   "cell_type": "code",
   "execution_count": 4,
   "metadata": {
    "collapsed": false
   },
   "outputs": [
    {
     "data": {
      "text/plain": [
       "(541909, 8)"
      ]
     },
     "execution_count": 4,
     "metadata": {},
     "output_type": "execute_result"
    }
   ],
   "source": [
    "data.shape"
   ]
  },
  {
   "cell_type": "code",
   "execution_count": 5,
   "metadata": {
    "collapsed": false
   },
   "outputs": [
    {
     "data": {
      "text/html": [
       "<div>\n",
       "<table border=\"1\" class=\"dataframe\">\n",
       "  <thead>\n",
       "    <tr style=\"text-align: right;\">\n",
       "      <th></th>\n",
       "      <th>InvoiceNo</th>\n",
       "      <th>StockCode</th>\n",
       "      <th>Description</th>\n",
       "      <th>Quantity</th>\n",
       "      <th>InvoiceDate</th>\n",
       "      <th>UnitPrice</th>\n",
       "      <th>CustomerID</th>\n",
       "      <th>Country</th>\n",
       "    </tr>\n",
       "  </thead>\n",
       "  <tbody>\n",
       "    <tr>\n",
       "      <th>0</th>\n",
       "      <td>536365</td>\n",
       "      <td>85123A</td>\n",
       "      <td>WHITE HANGING HEART T-LIGHT HOLDER</td>\n",
       "      <td>6</td>\n",
       "      <td>2010-12-01 08:26:00</td>\n",
       "      <td>2.55</td>\n",
       "      <td>17850.0</td>\n",
       "      <td>United Kingdom</td>\n",
       "    </tr>\n",
       "    <tr>\n",
       "      <th>1</th>\n",
       "      <td>536365</td>\n",
       "      <td>71053</td>\n",
       "      <td>WHITE METAL LANTERN</td>\n",
       "      <td>6</td>\n",
       "      <td>2010-12-01 08:26:00</td>\n",
       "      <td>3.39</td>\n",
       "      <td>17850.0</td>\n",
       "      <td>United Kingdom</td>\n",
       "    </tr>\n",
       "    <tr>\n",
       "      <th>2</th>\n",
       "      <td>536365</td>\n",
       "      <td>84406B</td>\n",
       "      <td>CREAM CUPID HEARTS COAT HANGER</td>\n",
       "      <td>8</td>\n",
       "      <td>2010-12-01 08:26:00</td>\n",
       "      <td>2.75</td>\n",
       "      <td>17850.0</td>\n",
       "      <td>United Kingdom</td>\n",
       "    </tr>\n",
       "    <tr>\n",
       "      <th>3</th>\n",
       "      <td>536365</td>\n",
       "      <td>84029G</td>\n",
       "      <td>KNITTED UNION FLAG HOT WATER BOTTLE</td>\n",
       "      <td>6</td>\n",
       "      <td>2010-12-01 08:26:00</td>\n",
       "      <td>3.39</td>\n",
       "      <td>17850.0</td>\n",
       "      <td>United Kingdom</td>\n",
       "    </tr>\n",
       "    <tr>\n",
       "      <th>4</th>\n",
       "      <td>536365</td>\n",
       "      <td>84029E</td>\n",
       "      <td>RED WOOLLY HOTTIE WHITE HEART.</td>\n",
       "      <td>6</td>\n",
       "      <td>2010-12-01 08:26:00</td>\n",
       "      <td>3.39</td>\n",
       "      <td>17850.0</td>\n",
       "      <td>United Kingdom</td>\n",
       "    </tr>\n",
       "  </tbody>\n",
       "</table>\n",
       "</div>"
      ],
      "text/plain": [
       "  InvoiceNo StockCode                          Description  Quantity  \\\n",
       "0    536365    85123A   WHITE HANGING HEART T-LIGHT HOLDER         6   \n",
       "1    536365     71053                  WHITE METAL LANTERN         6   \n",
       "2    536365    84406B       CREAM CUPID HEARTS COAT HANGER         8   \n",
       "3    536365    84029G  KNITTED UNION FLAG HOT WATER BOTTLE         6   \n",
       "4    536365    84029E       RED WOOLLY HOTTIE WHITE HEART.         6   \n",
       "\n",
       "          InvoiceDate  UnitPrice  CustomerID         Country  \n",
       "0 2010-12-01 08:26:00       2.55     17850.0  United Kingdom  \n",
       "1 2010-12-01 08:26:00       3.39     17850.0  United Kingdom  \n",
       "2 2010-12-01 08:26:00       2.75     17850.0  United Kingdom  \n",
       "3 2010-12-01 08:26:00       3.39     17850.0  United Kingdom  \n",
       "4 2010-12-01 08:26:00       3.39     17850.0  United Kingdom  "
      ]
     },
     "execution_count": 5,
     "metadata": {},
     "output_type": "execute_result"
    }
   ],
   "source": [
    "data.head()"
   ]
  },
  {
   "cell_type": "code",
   "execution_count": 6,
   "metadata": {
    "collapsed": false
   },
   "outputs": [
    {
     "data": {
      "text/plain": [
       "United Kingdom          495478\n",
       "Germany                   9495\n",
       "France                    8557\n",
       "EIRE                      8196\n",
       "Spain                     2533\n",
       "Netherlands               2371\n",
       "Belgium                   2069\n",
       "Switzerland               2002\n",
       "Portugal                  1519\n",
       "Australia                 1259\n",
       "Norway                    1086\n",
       "Italy                      803\n",
       "Channel Islands            758\n",
       "Finland                    695\n",
       "Cyprus                     622\n",
       "Sweden                     462\n",
       "Unspecified                446\n",
       "Austria                    401\n",
       "Denmark                    389\n",
       "Japan                      358\n",
       "Poland                     341\n",
       "Israel                     297\n",
       "USA                        291\n",
       "Hong Kong                  288\n",
       "Singapore                  229\n",
       "Iceland                    182\n",
       "Canada                     151\n",
       "Greece                     146\n",
       "Malta                      127\n",
       "United Arab Emirates        68\n",
       "European Community          61\n",
       "RSA                         58\n",
       "Lebanon                     45\n",
       "Lithuania                   35\n",
       "Brazil                      32\n",
       "Czech Republic              30\n",
       "Bahrain                     19\n",
       "Saudi Arabia                10\n",
       "Name: Country, dtype: int64"
      ]
     },
     "execution_count": 6,
     "metadata": {},
     "output_type": "execute_result"
    }
   ],
   "source": [
    "data.Country.value_counts()"
   ]
  },
  {
   "cell_type": "markdown",
   "metadata": {},
   "source": [
    "### Global outliers detection"
   ]
  },
  {
   "cell_type": "code",
   "execution_count": 7,
   "metadata": {
    "collapsed": false
   },
   "outputs": [
    {
     "data": {
      "image/png": "[encoded data removed]",
      "text/plain": [
       "<matplotlib.figure.Figure at 0x7fb24cac0358>"
      ]
     },
     "metadata": {},
     "output_type": "display_data"
    }
   ],
   "source": [
    "q = data.Quantity\n",
    "p = data.UnitPrice\n",
    "\n",
    "fig = plt.figure(figsize=(12, 12))\n",
    "ax = fig.add_subplot(111)\n",
    "plt.plot(p, q, linestyle='', marker='o', alpha=.2);\n",
    "ax.set_xlabel(\"UnitPrice\");\n",
    "ax.set_ylabel(\"Quantity\");"
   ]
  },
  {
   "cell_type": "markdown",
   "metadata": {},
   "source": [
    "Well, we have transactions where unit price is negative."
   ]
  },
  {
   "cell_type": "code",
   "execution_count": 8,
   "metadata": {
    "collapsed": false
   },
   "outputs": [
    {
     "data": {
      "text/html": [
       "<div>\n",
       "<table border=\"1\" class=\"dataframe\">\n",
       "  <thead>\n",
       "    <tr style=\"text-align: right;\">\n",
       "      <th></th>\n",
       "      <th>InvoiceNo</th>\n",
       "      <th>StockCode</th>\n",
       "      <th>Description</th>\n",
       "      <th>Quantity</th>\n",
       "      <th>InvoiceDate</th>\n",
       "      <th>UnitPrice</th>\n",
       "      <th>CustomerID</th>\n",
       "      <th>Country</th>\n",
       "    </tr>\n",
       "  </thead>\n",
       "  <tbody>\n",
       "    <tr>\n",
       "      <th>299983</th>\n",
       "      <td>A563186</td>\n",
       "      <td>B</td>\n",
       "      <td>Adjust bad debt</td>\n",
       "      <td>1</td>\n",
       "      <td>2011-08-12 14:51:00</td>\n",
       "      <td>-11062.06</td>\n",
       "      <td>NaN</td>\n",
       "      <td>United Kingdom</td>\n",
       "    </tr>\n",
       "    <tr>\n",
       "      <th>299984</th>\n",
       "      <td>A563187</td>\n",
       "      <td>B</td>\n",
       "      <td>Adjust bad debt</td>\n",
       "      <td>1</td>\n",
       "      <td>2011-08-12 14:52:00</td>\n",
       "      <td>-11062.06</td>\n",
       "      <td>NaN</td>\n",
       "      <td>United Kingdom</td>\n",
       "    </tr>\n",
       "  </tbody>\n",
       "</table>\n",
       "</div>"
      ],
      "text/plain": [
       "       InvoiceNo StockCode      Description  Quantity         InvoiceDate  \\\n",
       "299983   A563186         B  Adjust bad debt         1 2011-08-12 14:51:00   \n",
       "299984   A563187         B  Adjust bad debt         1 2011-08-12 14:52:00   \n",
       "\n",
       "        UnitPrice  CustomerID         Country  \n",
       "299983  -11062.06         NaN  United Kingdom  \n",
       "299984  -11062.06         NaN  United Kingdom  "
      ]
     },
     "execution_count": 8,
     "metadata": {},
     "output_type": "execute_result"
    }
   ],
   "source": [
    "data[data.UnitPrice < 0]"
   ]
  },
  {
   "cell_type": "markdown",
   "metadata": {},
   "source": [
    "And also several transactions with negative quantity."
   ]
  },
  {
   "cell_type": "code",
   "execution_count": 9,
   "metadata": {
    "collapsed": false,
    "scrolled": true
   },
   "outputs": [
    {
     "data": {
      "text/plain": [
       "0.87424698795180722"
      ]
     },
     "execution_count": 9,
     "metadata": {},
     "output_type": "execute_result"
    }
   ],
   "source": [
    "neg_qty = data[data.Quantity < 0]\n",
    "np.mean(neg_qty.InvoiceNo.apply(lambda s: str(s)[0] == 'C'))"
   ]
  },
  {
   "cell_type": "markdown",
   "metadata": {},
   "source": [
    "Most of them are cancelled, but what about others?"
   ]
  },
  {
   "cell_type": "code",
   "execution_count": 10,
   "metadata": {
    "collapsed": false,
    "scrolled": true
   },
   "outputs": [],
   "source": [
    "neg_qty_not_cnl = neg_qty[neg_qty.InvoiceNo.apply(lambda s: str(s)[0] != 'C')]"
   ]
  },
  {
   "cell_type": "code",
   "execution_count": 11,
   "metadata": {
    "collapsed": false
   },
   "outputs": [
    {
     "data": {
      "text/html": [
       "<div>\n",
       "<table border=\"1\" class=\"dataframe\">\n",
       "  <thead>\n",
       "    <tr style=\"text-align: right;\">\n",
       "      <th></th>\n",
       "      <th>InvoiceNo</th>\n",
       "      <th>StockCode</th>\n",
       "      <th>Description</th>\n",
       "      <th>Quantity</th>\n",
       "      <th>InvoiceDate</th>\n",
       "      <th>UnitPrice</th>\n",
       "      <th>CustomerID</th>\n",
       "      <th>Country</th>\n",
       "    </tr>\n",
       "  </thead>\n",
       "  <tbody>\n",
       "    <tr>\n",
       "      <th>2406</th>\n",
       "      <td>536589</td>\n",
       "      <td>21777</td>\n",
       "      <td>NaN</td>\n",
       "      <td>-10</td>\n",
       "      <td>2010-12-01 16:50:00</td>\n",
       "      <td>0.0</td>\n",
       "      <td>NaN</td>\n",
       "      <td>United Kingdom</td>\n",
       "    </tr>\n",
       "    <tr>\n",
       "      <th>4347</th>\n",
       "      <td>536764</td>\n",
       "      <td>84952C</td>\n",
       "      <td>NaN</td>\n",
       "      <td>-38</td>\n",
       "      <td>2010-12-02 14:42:00</td>\n",
       "      <td>0.0</td>\n",
       "      <td>NaN</td>\n",
       "      <td>United Kingdom</td>\n",
       "    </tr>\n",
       "    <tr>\n",
       "      <th>7188</th>\n",
       "      <td>536996</td>\n",
       "      <td>22712</td>\n",
       "      <td>NaN</td>\n",
       "      <td>-20</td>\n",
       "      <td>2010-12-03 15:30:00</td>\n",
       "      <td>0.0</td>\n",
       "      <td>NaN</td>\n",
       "      <td>United Kingdom</td>\n",
       "    </tr>\n",
       "    <tr>\n",
       "      <th>7189</th>\n",
       "      <td>536997</td>\n",
       "      <td>22028</td>\n",
       "      <td>NaN</td>\n",
       "      <td>-20</td>\n",
       "      <td>2010-12-03 15:30:00</td>\n",
       "      <td>0.0</td>\n",
       "      <td>NaN</td>\n",
       "      <td>United Kingdom</td>\n",
       "    </tr>\n",
       "    <tr>\n",
       "      <th>7190</th>\n",
       "      <td>536998</td>\n",
       "      <td>85067</td>\n",
       "      <td>NaN</td>\n",
       "      <td>-6</td>\n",
       "      <td>2010-12-03 15:30:00</td>\n",
       "      <td>0.0</td>\n",
       "      <td>NaN</td>\n",
       "      <td>United Kingdom</td>\n",
       "    </tr>\n",
       "  </tbody>\n",
       "</table>\n",
       "</div>"
      ],
      "text/plain": [
       "     InvoiceNo StockCode Description  Quantity         InvoiceDate  UnitPrice  \\\n",
       "2406    536589     21777         NaN       -10 2010-12-01 16:50:00        0.0   \n",
       "4347    536764    84952C         NaN       -38 2010-12-02 14:42:00        0.0   \n",
       "7188    536996     22712         NaN       -20 2010-12-03 15:30:00        0.0   \n",
       "7189    536997     22028         NaN       -20 2010-12-03 15:30:00        0.0   \n",
       "7190    536998     85067         NaN        -6 2010-12-03 15:30:00        0.0   \n",
       "\n",
       "      CustomerID         Country  \n",
       "2406         NaN  United Kingdom  \n",
       "4347         NaN  United Kingdom  \n",
       "7188         NaN  United Kingdom  \n",
       "7189         NaN  United Kingdom  \n",
       "7190         NaN  United Kingdom  "
      ]
     },
     "execution_count": 11,
     "metadata": {},
     "output_type": "execute_result"
    }
   ],
   "source": [
    "neg_qty_not_cnl.head()"
   ]
  },
  {
   "cell_type": "code",
   "execution_count": 12,
   "metadata": {
    "collapsed": false,
    "scrolled": false
   },
   "outputs": [
    {
     "data": {
      "text/plain": [
       "check                                  120\n",
       "damages                                 45\n",
       "damaged                                 42\n",
       "?                                       41\n",
       "sold as set on dotcom                   20\n",
       "Damaged                                 14\n",
       "thrown away                              9\n",
       "Unsaleable, destroyed.                   9\n",
       "??                                       7\n",
       "damages?                                 5\n",
       "ebay                                     5\n",
       "wet damaged                              5\n",
       "smashed                                  4\n",
       "CHECK                                    3\n",
       "missing                                  3\n",
       "wet pallet                               3\n",
       "rusty throw away                         2\n",
       "mixed up                                 2\n",
       "dotcom                                   2\n",
       "incorrect stock entry.                   2\n",
       "stock check                              2\n",
       "Dotcom sales                             2\n",
       "sold as 1                                2\n",
       "?missing                                 2\n",
       "printing smudges/thrown away             2\n",
       "crushed                                  2\n",
       "???missing                               2\n",
       "reverse 21/5/10 adjustment               2\n",
       "wet rusty                                2\n",
       "adjustment                               2\n",
       "                                      ... \n",
       "Sold as 1 on dotcom                      1\n",
       "incorrectly credited C550456 see 47      1\n",
       "wet                                      1\n",
       "throw away                               1\n",
       "dotcom sales                             1\n",
       "wet boxes                                1\n",
       "Breakages                                1\n",
       "stock creditted wrongly                  1\n",
       "rusty thrown away                        1\n",
       "crushed ctn                              1\n",
       "faulty                                   1\n",
       "damaged stock                            1\n",
       "sold as 22467                            1\n",
       "Wet pallet-thrown away                   1\n",
       "Show Samples                             1\n",
       "wet?                                     1\n",
       "samples/damages                          1\n",
       "wrong code?                              1\n",
       "sold as set/6 by dotcom                  1\n",
       "?? missing                               1\n",
       "test                                     1\n",
       "Printing smudges/thrown away             1\n",
       "Wrongly mrked had 85123a in box          1\n",
       "? sold as sets?                          1\n",
       "Given away                               1\n",
       "wrong barcode                            1\n",
       "found some more on shelf                 1\n",
       "samples                                  1\n",
       "20713 wrongly marked                     1\n",
       "mix up with c                            1\n",
       "Name: Description, dtype: int64"
      ]
     },
     "execution_count": 12,
     "metadata": {},
     "output_type": "execute_result"
    }
   ],
   "source": [
    "neg_qty_not_cnl.Description.value_counts()"
   ]
  },
  {
   "cell_type": "markdown",
   "metadata": {},
   "source": [
    "Those ones which are cancelled have normal invoices. Other do not. Anyway, it's better to consider them as noise and drop."
   ]
  },
  {
   "cell_type": "code",
   "execution_count": 13,
   "metadata": {
    "collapsed": true
   },
   "outputs": [],
   "source": [
    "data = data[data.Quantity > 0]\n",
    "data = data[data.UnitPrice > 0]\n",
    "\n",
    "q = data.Quantity\n",
    "p = data.UnitPrice"
   ]
  },
  {
   "cell_type": "markdown",
   "metadata": {},
   "source": [
    "Okay, so as to get global outliers we can use statistical methods. First let's examine distributions of quantities and prices."
   ]
  },
  {
   "cell_type": "code",
   "execution_count": 14,
   "metadata": {
    "collapsed": false
   },
   "outputs": [
    {
     "data": {
      "image/png": "[encoded data removed]",
      "text/plain": [
       "<matplotlib.figure.Figure at 0x7fb24dbb1828>"
      ]
     },
     "metadata": {},
     "output_type": "display_data"
    }
   ],
   "source": [
    "bins = plt.hist(data.Quantity);"
   ]
  },
  {
   "cell_type": "markdown",
   "metadata": {},
   "source": [
    "Let's take a closer look"
   ]
  },
  {
   "cell_type": "code",
   "execution_count": 15,
   "metadata": {
    "collapsed": false
   },
   "outputs": [],
   "source": [
    "data_trimmed = data[(data.Quantity < 10000) & (data.Quantity > 0)]"
   ]
  },
  {
   "cell_type": "code",
   "execution_count": 16,
   "metadata": {
    "collapsed": false
   },
   "outputs": [
    {
     "data": {
      "image/png": "[encoded data removed]",
      "text/plain": [
       "<matplotlib.figure.Figure at 0x7fb24af03f98>"
      ]
     },
     "metadata": {},
     "output_type": "display_data"
    }
   ],
   "source": [
    "plt.hist(data_trimmed.Quantity);"
   ]
  },
  {
   "cell_type": "markdown",
   "metadata": {},
   "source": [
    "Okay, the vast majority of examples lies very close to zero."
   ]
  },
  {
   "cell_type": "code",
   "execution_count": 17,
   "metadata": {
    "collapsed": true
   },
   "outputs": [],
   "source": [
    "data_trimmed = data[(data.Quantity < 50) & (data.Quantity > 0)]"
   ]
  },
  {
   "cell_type": "code",
   "execution_count": 18,
   "metadata": {
    "collapsed": false
   },
   "outputs": [
    {
     "data": {
      "image/png": "[encoded data removed]",
      "text/plain": [
       "<matplotlib.figure.Figure at 0x7fb24d9623c8>"
      ]
     },
     "metadata": {},
     "output_type": "display_data"
    }
   ],
   "source": [
    "plt.hist(data_trimmed.Quantity);"
   ]
  },
  {
   "cell_type": "markdown",
   "metadata": {},
   "source": [
    "Here we can assume exponential distribution, however we know that there are common packages (e.g. 24 or 100 units). So, probably we can define as outliers transactions with very uncommon quantity. However, it could be better to use kernel density estimations, because this method is non-parametric. Nevertheless, bandwidth is a tunable parameter, so some supervision is required."
   ]
  },
  {
   "cell_type": "markdown",
   "metadata": {},
   "source": [
    "Selecting bandwidth is crucial for Kernel Density Estimation, so, let's do some cross_validation and find optimal bandwidth."
   ]
  },
  {
   "cell_type": "code",
   "execution_count": 19,
   "metadata": {
    "collapsed": false
   },
   "outputs": [
    {
     "name": "stdout",
     "output_type": "stream",
     "text": [
      "-231851.851447\n",
      "-4003.64441959\n",
      "-1744.72660016\n",
      "-2191.18018405\n"
     ]
    }
   ],
   "source": [
    "qtrain, qvalidate = train_test_split(data.Quantity.values)\n",
    "\n",
    "for bandwidth in [10, 100, 1000, 10000]:\n",
    "    kd = KernelDensity(bandwidth=bandwidth)\n",
    "    kd.fit(np.expand_dims(qtrain, 1))\n",
    "    dqv = np.unique(qvalidate)\n",
    "    print(kd.score(np.expand_dims(dqv, 1)))"
   ]
  },
  {
   "cell_type": "markdown",
   "metadata": {},
   "source": [
    "Let's take a closer look."
   ]
  },
  {
   "cell_type": "code",
   "execution_count": 20,
   "metadata": {
    "collapsed": false
   },
   "outputs": [
    {
     "name": "stdout",
     "output_type": "stream",
     "text": [
      "-1848.06116643\n",
      "-1873.09963778\n",
      "-1897.45989904\n"
     ]
    }
   ],
   "source": [
    "qtrain, qvalidate = train_test_split(data.Quantity.values)\n",
    "\n",
    "for bandwidth in [1100, 1300, 1500]:\n",
    "    kd = KernelDensity(bandwidth=bandwidth)\n",
    "    kd.fit(np.expand_dims(qtrain, 1))\n",
    "    dqv = np.unique(qvalidate)\n",
    "    print(kd.score(np.expand_dims(dqv, 1)))"
   ]
  },
  {
   "cell_type": "markdown",
   "metadata": {},
   "source": [
    "Therefore, we can use 1000 as optimal bandwidth."
   ]
  },
  {
   "cell_type": "code",
   "execution_count": 21,
   "metadata": {
    "collapsed": true
   },
   "outputs": [],
   "source": [
    "kd = KernelDensity(bandwidth=1000)\n",
    "kd.fit(np.expand_dims(q, 1))\n",
    "dqv = np.unique(q)\n",
    "log_pdf = kd.score_samples(np.expand_dims(dqv, 1))"
   ]
  },
  {
   "cell_type": "markdown",
   "metadata": {},
   "source": [
    "So, there are half a million points in the array and an estimation about distribution. So, let's find points which has very low probability on PDF:"
   ]
  },
  {
   "cell_type": "code",
   "execution_count": 22,
   "metadata": {
    "collapsed": false,
    "scrolled": false
   },
   "outputs": [
    {
     "data": {
      "image/png": "[encoded data removed]",
      "text/plain": [
       "<matplotlib.figure.Figure at 0x7fb25281fa20>"
      ]
     },
     "metadata": {},
     "output_type": "display_data"
    }
   ],
   "source": [
    "q = data.Quantity\n",
    "p = data.UnitPrice\n",
    "\n",
    "outlier_quantity = dqv[np.exp(log_pdf) < 0.000001]\n",
    "outliers_sel = np.vectorize(lambda x: x in outlier_quantity)(q)\n",
    "fig = plt.figure(figsize=(14, 14))\n",
    "ax = fig.add_subplot(111)\n",
    "plt.plot(p, q, linestyle='', marker='o', alpha=.2);\n",
    "plt.plot(p[outliers_sel], q[outliers_sel], linestyle='', marker='o', alpha=.2, color='r');\n",
    "ax.set_xlim(-1000, 14000)\n",
    "ax.set_ylim(-1000, 90000)\n",
    "ax.set_xlabel(\"UnitPrice\");\n",
    "ax.set_ylabel(\"Quantity\");"
   ]
  },
  {
   "cell_type": "markdown",
   "metadata": {},
   "source": [
    "Let's drop the two highest points and take closer look."
   ]
  },
  {
   "cell_type": "code",
   "execution_count": 23,
   "metadata": {
    "collapsed": false
   },
   "outputs": [
    {
     "data": {
      "image/png": "[encoded data removed]",
      "text/plain": [
       "<matplotlib.figure.Figure at 0x7fb2538afbe0>"
      ]
     },
     "metadata": {},
     "output_type": "display_data"
    }
   ],
   "source": [
    "q = data.Quantity\n",
    "p = data.UnitPrice\n",
    "\n",
    "p = p[q < 60000]\n",
    "q = q[q < 60000]\n",
    "\n",
    "outlier_quantity = dqv[np.exp(log_pdf) < 0.000001]\n",
    "outliers_sel = np.vectorize(lambda x: x in outlier_quantity)(q)\n",
    "fig = plt.figure(figsize=(14, 14))\n",
    "ax = fig.add_subplot(111)\n",
    "plt.plot(p, q, linestyle='', marker='o', alpha=.2);\n",
    "plt.plot(p[outliers_sel], q[outliers_sel], linestyle='', marker='o', alpha=.2, color='r');\n",
    "ax.set_xlim(-1000, 14000)\n",
    "ax.set_ylim(-1000, 10000)\n",
    "ax.set_xlabel(\"UnitPrice\");\n",
    "ax.set_ylabel(\"Quantity\");"
   ]
  },
  {
   "cell_type": "markdown",
   "metadata": {},
   "source": [
    "Let's do the same for UnitPrice."
   ]
  },
  {
   "cell_type": "code",
   "execution_count": 24,
   "metadata": {
    "collapsed": false
   },
   "outputs": [
    {
     "name": "stdout",
     "output_type": "stream",
     "text": [
      "-5372.50510244\n",
      "-3836.26608131\n",
      "-4525.13430032\n",
      "-5814.537704\n"
     ]
    }
   ],
   "source": [
    "ptrain, pvalidate = train_test_split(data.UnitPrice.values)\n",
    "\n",
    "for bandwidth in [10, 100, 1000, 10000]:\n",
    "    kd = KernelDensity(bandwidth=bandwidth)\n",
    "    kd.fit(np.expand_dims(ptrain, 1))\n",
    "    dpv = np.unique(pvalidate)\n",
    "    print(kd.score(np.expand_dims(dpv, 1)))"
   ]
  },
  {
   "cell_type": "code",
   "execution_count": 25,
   "metadata": {
    "collapsed": false
   },
   "outputs": [
    {
     "name": "stdout",
     "output_type": "stream",
     "text": [
      "-4728.29130632\n",
      "-4811.55122029\n",
      "-4886.22973033\n"
     ]
    }
   ],
   "source": [
    "ptrain, pvalidate = train_test_split(data.UnitPrice.values)\n",
    "\n",
    "for bandwidth in [1100, 1300, 1500]:\n",
    "    kd = KernelDensity(bandwidth=bandwidth)\n",
    "    kd.fit(np.expand_dims(ptrain, 1))\n",
    "    dpv = np.unique(pvalidate)\n",
    "    print(kd.score(np.expand_dims(dpv, 1)))"
   ]
  },
  {
   "cell_type": "markdown",
   "metadata": {},
   "source": [
    "The same, 1000 is a reasonable bandwidth."
   ]
  },
  {
   "cell_type": "code",
   "execution_count": 26,
   "metadata": {
    "collapsed": false
   },
   "outputs": [],
   "source": [
    "kd = KernelDensity(bandwidth=1000)\n",
    "kd.fit(np.expand_dims(data.UnitPrice.values, 1))\n",
    "dpv = np.unique(data.UnitPrice.values)\n",
    "log_pdf = kd.score_samples(np.expand_dims(dpv, 1))"
   ]
  },
  {
   "cell_type": "code",
   "execution_count": 27,
   "metadata": {
    "collapsed": false,
    "scrolled": false
   },
   "outputs": [
    {
     "data": {
      "image/png": "[encoded data removed]",
      "text/plain": [
       "<matplotlib.figure.Figure at 0x7fb25281f710>"
      ]
     },
     "metadata": {},
     "output_type": "display_data"
    }
   ],
   "source": [
    "outlier_unitprice = dpv[np.exp(log_pdf) < 0.000001]\n",
    "outliers_sel = np.vectorize(lambda x: x in outlier_unitprice)(p)\n",
    "fig = plt.figure(figsize=(14, 14))\n",
    "ax = fig.add_subplot(111)\n",
    "plt.plot(p, q, linestyle='', marker='o', alpha=.2);\n",
    "plt.plot(p[outliers_sel], q[outliers_sel], linestyle='', marker='o', alpha=.2, color='r');\n",
    "ax.set_xlim(-1000, 14000)\n",
    "ax.set_ylim(-1000, 10000)\n",
    "ax.set_xlabel(\"UnitPrice\");\n",
    "ax.set_ylabel(\"Quantity\");"
   ]
  },
  {
   "cell_type": "markdown",
   "metadata": {},
   "source": [
    "We can conclude that these points are global outliers because they deviate a lot from estimation. Even though we can go further and analyze 2d space, doing so is not very reasonable beacause of obvious structure of the data."
   ]
  },
  {
   "cell_type": "markdown",
   "metadata": {},
   "source": [
    "### Contextual outliers"
   ]
  },
  {
   "cell_type": "code",
   "execution_count": 28,
   "metadata": {
    "collapsed": false,
    "scrolled": false
   },
   "outputs": [
    {
     "data": {
      "text/html": [
       "<div>\n",
       "<table border=\"1\" class=\"dataframe\">\n",
       "  <thead>\n",
       "    <tr style=\"text-align: right;\">\n",
       "      <th></th>\n",
       "      <th>InvoiceNo</th>\n",
       "      <th>StockCode</th>\n",
       "      <th>Description</th>\n",
       "      <th>Quantity</th>\n",
       "      <th>InvoiceDate</th>\n",
       "      <th>UnitPrice</th>\n",
       "      <th>CustomerID</th>\n",
       "      <th>Country</th>\n",
       "    </tr>\n",
       "  </thead>\n",
       "  <tbody>\n",
       "    <tr>\n",
       "      <th>0</th>\n",
       "      <td>536365</td>\n",
       "      <td>85123A</td>\n",
       "      <td>WHITE HANGING HEART T-LIGHT HOLDER</td>\n",
       "      <td>6</td>\n",
       "      <td>2010-12-01 08:26:00</td>\n",
       "      <td>2.55</td>\n",
       "      <td>17850.0</td>\n",
       "      <td>United Kingdom</td>\n",
       "    </tr>\n",
       "    <tr>\n",
       "      <th>1</th>\n",
       "      <td>536365</td>\n",
       "      <td>71053</td>\n",
       "      <td>WHITE METAL LANTERN</td>\n",
       "      <td>6</td>\n",
       "      <td>2010-12-01 08:26:00</td>\n",
       "      <td>3.39</td>\n",
       "      <td>17850.0</td>\n",
       "      <td>United Kingdom</td>\n",
       "    </tr>\n",
       "    <tr>\n",
       "      <th>2</th>\n",
       "      <td>536365</td>\n",
       "      <td>84406B</td>\n",
       "      <td>CREAM CUPID HEARTS COAT HANGER</td>\n",
       "      <td>8</td>\n",
       "      <td>2010-12-01 08:26:00</td>\n",
       "      <td>2.75</td>\n",
       "      <td>17850.0</td>\n",
       "      <td>United Kingdom</td>\n",
       "    </tr>\n",
       "    <tr>\n",
       "      <th>3</th>\n",
       "      <td>536365</td>\n",
       "      <td>84029G</td>\n",
       "      <td>KNITTED UNION FLAG HOT WATER BOTTLE</td>\n",
       "      <td>6</td>\n",
       "      <td>2010-12-01 08:26:00</td>\n",
       "      <td>3.39</td>\n",
       "      <td>17850.0</td>\n",
       "      <td>United Kingdom</td>\n",
       "    </tr>\n",
       "    <tr>\n",
       "      <th>4</th>\n",
       "      <td>536365</td>\n",
       "      <td>84029E</td>\n",
       "      <td>RED WOOLLY HOTTIE WHITE HEART.</td>\n",
       "      <td>6</td>\n",
       "      <td>2010-12-01 08:26:00</td>\n",
       "      <td>3.39</td>\n",
       "      <td>17850.0</td>\n",
       "      <td>United Kingdom</td>\n",
       "    </tr>\n",
       "    <tr>\n",
       "      <th>5</th>\n",
       "      <td>536365</td>\n",
       "      <td>22752</td>\n",
       "      <td>SET 7 BABUSHKA NESTING BOXES</td>\n",
       "      <td>2</td>\n",
       "      <td>2010-12-01 08:26:00</td>\n",
       "      <td>7.65</td>\n",
       "      <td>17850.0</td>\n",
       "      <td>United Kingdom</td>\n",
       "    </tr>\n",
       "    <tr>\n",
       "      <th>6</th>\n",
       "      <td>536365</td>\n",
       "      <td>21730</td>\n",
       "      <td>GLASS STAR FROSTED T-LIGHT HOLDER</td>\n",
       "      <td>6</td>\n",
       "      <td>2010-12-01 08:26:00</td>\n",
       "      <td>4.25</td>\n",
       "      <td>17850.0</td>\n",
       "      <td>United Kingdom</td>\n",
       "    </tr>\n",
       "    <tr>\n",
       "      <th>7</th>\n",
       "      <td>536366</td>\n",
       "      <td>22633</td>\n",
       "      <td>HAND WARMER UNION JACK</td>\n",
       "      <td>6</td>\n",
       "      <td>2010-12-01 08:28:00</td>\n",
       "      <td>1.85</td>\n",
       "      <td>17850.0</td>\n",
       "      <td>United Kingdom</td>\n",
       "    </tr>\n",
       "    <tr>\n",
       "      <th>8</th>\n",
       "      <td>536366</td>\n",
       "      <td>22632</td>\n",
       "      <td>HAND WARMER RED POLKA DOT</td>\n",
       "      <td>6</td>\n",
       "      <td>2010-12-01 08:28:00</td>\n",
       "      <td>1.85</td>\n",
       "      <td>17850.0</td>\n",
       "      <td>United Kingdom</td>\n",
       "    </tr>\n",
       "    <tr>\n",
       "      <th>9</th>\n",
       "      <td>536367</td>\n",
       "      <td>84879</td>\n",
       "      <td>ASSORTED COLOUR BIRD ORNAMENT</td>\n",
       "      <td>32</td>\n",
       "      <td>2010-12-01 08:34:00</td>\n",
       "      <td>1.69</td>\n",
       "      <td>13047.0</td>\n",
       "      <td>United Kingdom</td>\n",
       "    </tr>\n",
       "    <tr>\n",
       "      <th>10</th>\n",
       "      <td>536367</td>\n",
       "      <td>22745</td>\n",
       "      <td>POPPY'S PLAYHOUSE BEDROOM</td>\n",
       "      <td>6</td>\n",
       "      <td>2010-12-01 08:34:00</td>\n",
       "      <td>2.10</td>\n",
       "      <td>13047.0</td>\n",
       "      <td>United Kingdom</td>\n",
       "    </tr>\n",
       "    <tr>\n",
       "      <th>11</th>\n",
       "      <td>536367</td>\n",
       "      <td>22748</td>\n",
       "      <td>POPPY'S PLAYHOUSE KITCHEN</td>\n",
       "      <td>6</td>\n",
       "      <td>2010-12-01 08:34:00</td>\n",
       "      <td>2.10</td>\n",
       "      <td>13047.0</td>\n",
       "      <td>United Kingdom</td>\n",
       "    </tr>\n",
       "    <tr>\n",
       "      <th>12</th>\n",
       "      <td>536367</td>\n",
       "      <td>22749</td>\n",
       "      <td>FELTCRAFT PRINCESS CHARLOTTE DOLL</td>\n",
       "      <td>8</td>\n",
       "      <td>2010-12-01 08:34:00</td>\n",
       "      <td>3.75</td>\n",
       "      <td>13047.0</td>\n",
       "      <td>United Kingdom</td>\n",
       "    </tr>\n",
       "    <tr>\n",
       "      <th>13</th>\n",
       "      <td>536367</td>\n",
       "      <td>22310</td>\n",
       "      <td>IVORY KNITTED MUG COSY</td>\n",
       "      <td>6</td>\n",
       "      <td>2010-12-01 08:34:00</td>\n",
       "      <td>1.65</td>\n",
       "      <td>13047.0</td>\n",
       "      <td>United Kingdom</td>\n",
       "    </tr>\n",
       "    <tr>\n",
       "      <th>14</th>\n",
       "      <td>536367</td>\n",
       "      <td>84969</td>\n",
       "      <td>BOX OF 6 ASSORTED COLOUR TEASPOONS</td>\n",
       "      <td>6</td>\n",
       "      <td>2010-12-01 08:34:00</td>\n",
       "      <td>4.25</td>\n",
       "      <td>13047.0</td>\n",
       "      <td>United Kingdom</td>\n",
       "    </tr>\n",
       "    <tr>\n",
       "      <th>15</th>\n",
       "      <td>536367</td>\n",
       "      <td>22623</td>\n",
       "      <td>BOX OF VINTAGE JIGSAW BLOCKS</td>\n",
       "      <td>3</td>\n",
       "      <td>2010-12-01 08:34:00</td>\n",
       "      <td>4.95</td>\n",
       "      <td>13047.0</td>\n",
       "      <td>United Kingdom</td>\n",
       "    </tr>\n",
       "    <tr>\n",
       "      <th>16</th>\n",
       "      <td>536367</td>\n",
       "      <td>22622</td>\n",
       "      <td>BOX OF VINTAGE ALPHABET BLOCKS</td>\n",
       "      <td>2</td>\n",
       "      <td>2010-12-01 08:34:00</td>\n",
       "      <td>9.95</td>\n",
       "      <td>13047.0</td>\n",
       "      <td>United Kingdom</td>\n",
       "    </tr>\n",
       "    <tr>\n",
       "      <th>17</th>\n",
       "      <td>536367</td>\n",
       "      <td>21754</td>\n",
       "      <td>HOME BUILDING BLOCK WORD</td>\n",
       "      <td>3</td>\n",
       "      <td>2010-12-01 08:34:00</td>\n",
       "      <td>5.95</td>\n",
       "      <td>13047.0</td>\n",
       "      <td>United Kingdom</td>\n",
       "    </tr>\n",
       "    <tr>\n",
       "      <th>18</th>\n",
       "      <td>536367</td>\n",
       "      <td>21755</td>\n",
       "      <td>LOVE BUILDING BLOCK WORD</td>\n",
       "      <td>3</td>\n",
       "      <td>2010-12-01 08:34:00</td>\n",
       "      <td>5.95</td>\n",
       "      <td>13047.0</td>\n",
       "      <td>United Kingdom</td>\n",
       "    </tr>\n",
       "    <tr>\n",
       "      <th>19</th>\n",
       "      <td>536367</td>\n",
       "      <td>21777</td>\n",
       "      <td>RECIPE BOX WITH METAL HEART</td>\n",
       "      <td>4</td>\n",
       "      <td>2010-12-01 08:34:00</td>\n",
       "      <td>7.95</td>\n",
       "      <td>13047.0</td>\n",
       "      <td>United Kingdom</td>\n",
       "    </tr>\n",
       "    <tr>\n",
       "      <th>20</th>\n",
       "      <td>536367</td>\n",
       "      <td>48187</td>\n",
       "      <td>DOORMAT NEW ENGLAND</td>\n",
       "      <td>4</td>\n",
       "      <td>2010-12-01 08:34:00</td>\n",
       "      <td>7.95</td>\n",
       "      <td>13047.0</td>\n",
       "      <td>United Kingdom</td>\n",
       "    </tr>\n",
       "    <tr>\n",
       "      <th>21</th>\n",
       "      <td>536368</td>\n",
       "      <td>22960</td>\n",
       "      <td>JAM MAKING SET WITH JARS</td>\n",
       "      <td>6</td>\n",
       "      <td>2010-12-01 08:34:00</td>\n",
       "      <td>4.25</td>\n",
       "      <td>13047.0</td>\n",
       "      <td>United Kingdom</td>\n",
       "    </tr>\n",
       "    <tr>\n",
       "      <th>22</th>\n",
       "      <td>536368</td>\n",
       "      <td>22913</td>\n",
       "      <td>RED COAT RACK PARIS FASHION</td>\n",
       "      <td>3</td>\n",
       "      <td>2010-12-01 08:34:00</td>\n",
       "      <td>4.95</td>\n",
       "      <td>13047.0</td>\n",
       "      <td>United Kingdom</td>\n",
       "    </tr>\n",
       "    <tr>\n",
       "      <th>23</th>\n",
       "      <td>536368</td>\n",
       "      <td>22912</td>\n",
       "      <td>YELLOW COAT RACK PARIS FASHION</td>\n",
       "      <td>3</td>\n",
       "      <td>2010-12-01 08:34:00</td>\n",
       "      <td>4.95</td>\n",
       "      <td>13047.0</td>\n",
       "      <td>United Kingdom</td>\n",
       "    </tr>\n",
       "    <tr>\n",
       "      <th>24</th>\n",
       "      <td>536368</td>\n",
       "      <td>22914</td>\n",
       "      <td>BLUE COAT RACK PARIS FASHION</td>\n",
       "      <td>3</td>\n",
       "      <td>2010-12-01 08:34:00</td>\n",
       "      <td>4.95</td>\n",
       "      <td>13047.0</td>\n",
       "      <td>United Kingdom</td>\n",
       "    </tr>\n",
       "    <tr>\n",
       "      <th>25</th>\n",
       "      <td>536369</td>\n",
       "      <td>21756</td>\n",
       "      <td>BATH BUILDING BLOCK WORD</td>\n",
       "      <td>3</td>\n",
       "      <td>2010-12-01 08:35:00</td>\n",
       "      <td>5.95</td>\n",
       "      <td>13047.0</td>\n",
       "      <td>United Kingdom</td>\n",
       "    </tr>\n",
       "    <tr>\n",
       "      <th>26</th>\n",
       "      <td>536370</td>\n",
       "      <td>22728</td>\n",
       "      <td>ALARM CLOCK BAKELIKE PINK</td>\n",
       "      <td>24</td>\n",
       "      <td>2010-12-01 08:45:00</td>\n",
       "      <td>3.75</td>\n",
       "      <td>12583.0</td>\n",
       "      <td>France</td>\n",
       "    </tr>\n",
       "    <tr>\n",
       "      <th>27</th>\n",
       "      <td>536370</td>\n",
       "      <td>22727</td>\n",
       "      <td>ALARM CLOCK BAKELIKE RED</td>\n",
       "      <td>24</td>\n",
       "      <td>2010-12-01 08:45:00</td>\n",
       "      <td>3.75</td>\n",
       "      <td>12583.0</td>\n",
       "      <td>France</td>\n",
       "    </tr>\n",
       "    <tr>\n",
       "      <th>28</th>\n",
       "      <td>536370</td>\n",
       "      <td>22726</td>\n",
       "      <td>ALARM CLOCK BAKELIKE GREEN</td>\n",
       "      <td>12</td>\n",
       "      <td>2010-12-01 08:45:00</td>\n",
       "      <td>3.75</td>\n",
       "      <td>12583.0</td>\n",
       "      <td>France</td>\n",
       "    </tr>\n",
       "    <tr>\n",
       "      <th>29</th>\n",
       "      <td>536370</td>\n",
       "      <td>21724</td>\n",
       "      <td>PANDA AND BUNNIES STICKER SHEET</td>\n",
       "      <td>12</td>\n",
       "      <td>2010-12-01 08:45:00</td>\n",
       "      <td>0.85</td>\n",
       "      <td>12583.0</td>\n",
       "      <td>France</td>\n",
       "    </tr>\n",
       "    <tr>\n",
       "      <th>...</th>\n",
       "      <td>...</td>\n",
       "      <td>...</td>\n",
       "      <td>...</td>\n",
       "      <td>...</td>\n",
       "      <td>...</td>\n",
       "      <td>...</td>\n",
       "      <td>...</td>\n",
       "      <td>...</td>\n",
       "    </tr>\n",
       "    <tr>\n",
       "      <th>541879</th>\n",
       "      <td>581585</td>\n",
       "      <td>22726</td>\n",
       "      <td>ALARM CLOCK BAKELIKE GREEN</td>\n",
       "      <td>8</td>\n",
       "      <td>2011-12-09 12:31:00</td>\n",
       "      <td>3.75</td>\n",
       "      <td>15804.0</td>\n",
       "      <td>United Kingdom</td>\n",
       "    </tr>\n",
       "    <tr>\n",
       "      <th>541880</th>\n",
       "      <td>581585</td>\n",
       "      <td>22727</td>\n",
       "      <td>ALARM CLOCK BAKELIKE RED</td>\n",
       "      <td>4</td>\n",
       "      <td>2011-12-09 12:31:00</td>\n",
       "      <td>3.75</td>\n",
       "      <td>15804.0</td>\n",
       "      <td>United Kingdom</td>\n",
       "    </tr>\n",
       "    <tr>\n",
       "      <th>541881</th>\n",
       "      <td>581585</td>\n",
       "      <td>16016</td>\n",
       "      <td>LARGE CHINESE STYLE SCISSOR</td>\n",
       "      <td>10</td>\n",
       "      <td>2011-12-09 12:31:00</td>\n",
       "      <td>0.85</td>\n",
       "      <td>15804.0</td>\n",
       "      <td>United Kingdom</td>\n",
       "    </tr>\n",
       "    <tr>\n",
       "      <th>541882</th>\n",
       "      <td>581585</td>\n",
       "      <td>21916</td>\n",
       "      <td>SET 12 RETRO WHITE CHALK STICKS</td>\n",
       "      <td>24</td>\n",
       "      <td>2011-12-09 12:31:00</td>\n",
       "      <td>0.42</td>\n",
       "      <td>15804.0</td>\n",
       "      <td>United Kingdom</td>\n",
       "    </tr>\n",
       "    <tr>\n",
       "      <th>541883</th>\n",
       "      <td>581585</td>\n",
       "      <td>84692</td>\n",
       "      <td>BOX OF 24 COCKTAIL PARASOLS</td>\n",
       "      <td>25</td>\n",
       "      <td>2011-12-09 12:31:00</td>\n",
       "      <td>0.42</td>\n",
       "      <td>15804.0</td>\n",
       "      <td>United Kingdom</td>\n",
       "    </tr>\n",
       "    <tr>\n",
       "      <th>541884</th>\n",
       "      <td>581585</td>\n",
       "      <td>84946</td>\n",
       "      <td>ANTIQUE SILVER T-LIGHT GLASS</td>\n",
       "      <td>12</td>\n",
       "      <td>2011-12-09 12:31:00</td>\n",
       "      <td>1.25</td>\n",
       "      <td>15804.0</td>\n",
       "      <td>United Kingdom</td>\n",
       "    </tr>\n",
       "    <tr>\n",
       "      <th>541885</th>\n",
       "      <td>581585</td>\n",
       "      <td>21684</td>\n",
       "      <td>SMALL MEDINA STAMPED METAL BOWL</td>\n",
       "      <td>12</td>\n",
       "      <td>2011-12-09 12:31:00</td>\n",
       "      <td>0.85</td>\n",
       "      <td>15804.0</td>\n",
       "      <td>United Kingdom</td>\n",
       "    </tr>\n",
       "    <tr>\n",
       "      <th>541886</th>\n",
       "      <td>581585</td>\n",
       "      <td>22398</td>\n",
       "      <td>MAGNETS PACK OF 4 SWALLOWS</td>\n",
       "      <td>12</td>\n",
       "      <td>2011-12-09 12:31:00</td>\n",
       "      <td>0.39</td>\n",
       "      <td>15804.0</td>\n",
       "      <td>United Kingdom</td>\n",
       "    </tr>\n",
       "    <tr>\n",
       "      <th>541887</th>\n",
       "      <td>581585</td>\n",
       "      <td>23328</td>\n",
       "      <td>SET 6 SCHOOL MILK BOTTLES IN CRATE</td>\n",
       "      <td>4</td>\n",
       "      <td>2011-12-09 12:31:00</td>\n",
       "      <td>3.75</td>\n",
       "      <td>15804.0</td>\n",
       "      <td>United Kingdom</td>\n",
       "    </tr>\n",
       "    <tr>\n",
       "      <th>541888</th>\n",
       "      <td>581585</td>\n",
       "      <td>23145</td>\n",
       "      <td>ZINC T-LIGHT HOLDER STAR LARGE</td>\n",
       "      <td>12</td>\n",
       "      <td>2011-12-09 12:31:00</td>\n",
       "      <td>0.95</td>\n",
       "      <td>15804.0</td>\n",
       "      <td>United Kingdom</td>\n",
       "    </tr>\n",
       "    <tr>\n",
       "      <th>541889</th>\n",
       "      <td>581585</td>\n",
       "      <td>22466</td>\n",
       "      <td>FAIRY TALE COTTAGE NIGHT LIGHT</td>\n",
       "      <td>12</td>\n",
       "      <td>2011-12-09 12:31:00</td>\n",
       "      <td>1.95</td>\n",
       "      <td>15804.0</td>\n",
       "      <td>United Kingdom</td>\n",
       "    </tr>\n",
       "    <tr>\n",
       "      <th>541890</th>\n",
       "      <td>581586</td>\n",
       "      <td>22061</td>\n",
       "      <td>LARGE CAKE STAND  HANGING STRAWBERY</td>\n",
       "      <td>8</td>\n",
       "      <td>2011-12-09 12:49:00</td>\n",
       "      <td>2.95</td>\n",
       "      <td>13113.0</td>\n",
       "      <td>United Kingdom</td>\n",
       "    </tr>\n",
       "    <tr>\n",
       "      <th>541891</th>\n",
       "      <td>581586</td>\n",
       "      <td>23275</td>\n",
       "      <td>SET OF 3 HANGING OWLS OLLIE BEAK</td>\n",
       "      <td>24</td>\n",
       "      <td>2011-12-09 12:49:00</td>\n",
       "      <td>1.25</td>\n",
       "      <td>13113.0</td>\n",
       "      <td>United Kingdom</td>\n",
       "    </tr>\n",
       "    <tr>\n",
       "      <th>541892</th>\n",
       "      <td>581586</td>\n",
       "      <td>21217</td>\n",
       "      <td>RED RETROSPOT ROUND CAKE TINS</td>\n",
       "      <td>24</td>\n",
       "      <td>2011-12-09 12:49:00</td>\n",
       "      <td>8.95</td>\n",
       "      <td>13113.0</td>\n",
       "      <td>United Kingdom</td>\n",
       "    </tr>\n",
       "    <tr>\n",
       "      <th>541893</th>\n",
       "      <td>581586</td>\n",
       "      <td>20685</td>\n",
       "      <td>DOORMAT RED RETROSPOT</td>\n",
       "      <td>10</td>\n",
       "      <td>2011-12-09 12:49:00</td>\n",
       "      <td>7.08</td>\n",
       "      <td>13113.0</td>\n",
       "      <td>United Kingdom</td>\n",
       "    </tr>\n",
       "    <tr>\n",
       "      <th>541894</th>\n",
       "      <td>581587</td>\n",
       "      <td>22631</td>\n",
       "      <td>CIRCUS PARADE LUNCH BOX</td>\n",
       "      <td>12</td>\n",
       "      <td>2011-12-09 12:50:00</td>\n",
       "      <td>1.95</td>\n",
       "      <td>12680.0</td>\n",
       "      <td>France</td>\n",
       "    </tr>\n",
       "    <tr>\n",
       "      <th>541895</th>\n",
       "      <td>581587</td>\n",
       "      <td>22556</td>\n",
       "      <td>PLASTERS IN TIN CIRCUS PARADE</td>\n",
       "      <td>12</td>\n",
       "      <td>2011-12-09 12:50:00</td>\n",
       "      <td>1.65</td>\n",
       "      <td>12680.0</td>\n",
       "      <td>France</td>\n",
       "    </tr>\n",
       "    <tr>\n",
       "      <th>541896</th>\n",
       "      <td>581587</td>\n",
       "      <td>22555</td>\n",
       "      <td>PLASTERS IN TIN STRONGMAN</td>\n",
       "      <td>12</td>\n",
       "      <td>2011-12-09 12:50:00</td>\n",
       "      <td>1.65</td>\n",
       "      <td>12680.0</td>\n",
       "      <td>France</td>\n",
       "    </tr>\n",
       "    <tr>\n",
       "      <th>541897</th>\n",
       "      <td>581587</td>\n",
       "      <td>22728</td>\n",
       "      <td>ALARM CLOCK BAKELIKE PINK</td>\n",
       "      <td>4</td>\n",
       "      <td>2011-12-09 12:50:00</td>\n",
       "      <td>3.75</td>\n",
       "      <td>12680.0</td>\n",
       "      <td>France</td>\n",
       "    </tr>\n",
       "    <tr>\n",
       "      <th>541898</th>\n",
       "      <td>581587</td>\n",
       "      <td>22727</td>\n",
       "      <td>ALARM CLOCK BAKELIKE RED</td>\n",
       "      <td>4</td>\n",
       "      <td>2011-12-09 12:50:00</td>\n",
       "      <td>3.75</td>\n",
       "      <td>12680.0</td>\n",
       "      <td>France</td>\n",
       "    </tr>\n",
       "    <tr>\n",
       "      <th>541899</th>\n",
       "      <td>581587</td>\n",
       "      <td>22726</td>\n",
       "      <td>ALARM CLOCK BAKELIKE GREEN</td>\n",
       "      <td>4</td>\n",
       "      <td>2011-12-09 12:50:00</td>\n",
       "      <td>3.75</td>\n",
       "      <td>12680.0</td>\n",
       "      <td>France</td>\n",
       "    </tr>\n",
       "    <tr>\n",
       "      <th>541900</th>\n",
       "      <td>581587</td>\n",
       "      <td>22730</td>\n",
       "      <td>ALARM CLOCK BAKELIKE IVORY</td>\n",
       "      <td>4</td>\n",
       "      <td>2011-12-09 12:50:00</td>\n",
       "      <td>3.75</td>\n",
       "      <td>12680.0</td>\n",
       "      <td>France</td>\n",
       "    </tr>\n",
       "    <tr>\n",
       "      <th>541901</th>\n",
       "      <td>581587</td>\n",
       "      <td>22367</td>\n",
       "      <td>CHILDRENS APRON SPACEBOY DESIGN</td>\n",
       "      <td>8</td>\n",
       "      <td>2011-12-09 12:50:00</td>\n",
       "      <td>1.95</td>\n",
       "      <td>12680.0</td>\n",
       "      <td>France</td>\n",
       "    </tr>\n",
       "    <tr>\n",
       "      <th>541902</th>\n",
       "      <td>581587</td>\n",
       "      <td>22629</td>\n",
       "      <td>SPACEBOY LUNCH BOX</td>\n",
       "      <td>12</td>\n",
       "      <td>2011-12-09 12:50:00</td>\n",
       "      <td>1.95</td>\n",
       "      <td>12680.0</td>\n",
       "      <td>France</td>\n",
       "    </tr>\n",
       "    <tr>\n",
       "      <th>541903</th>\n",
       "      <td>581587</td>\n",
       "      <td>23256</td>\n",
       "      <td>CHILDRENS CUTLERY SPACEBOY</td>\n",
       "      <td>4</td>\n",
       "      <td>2011-12-09 12:50:00</td>\n",
       "      <td>4.15</td>\n",
       "      <td>12680.0</td>\n",
       "      <td>France</td>\n",
       "    </tr>\n",
       "    <tr>\n",
       "      <th>541904</th>\n",
       "      <td>581587</td>\n",
       "      <td>22613</td>\n",
       "      <td>PACK OF 20 SPACEBOY NAPKINS</td>\n",
       "      <td>12</td>\n",
       "      <td>2011-12-09 12:50:00</td>\n",
       "      <td>0.85</td>\n",
       "      <td>12680.0</td>\n",
       "      <td>France</td>\n",
       "    </tr>\n",
       "    <tr>\n",
       "      <th>541905</th>\n",
       "      <td>581587</td>\n",
       "      <td>22899</td>\n",
       "      <td>CHILDREN'S APRON DOLLY GIRL</td>\n",
       "      <td>6</td>\n",
       "      <td>2011-12-09 12:50:00</td>\n",
       "      <td>2.10</td>\n",
       "      <td>12680.0</td>\n",
       "      <td>France</td>\n",
       "    </tr>\n",
       "    <tr>\n",
       "      <th>541906</th>\n",
       "      <td>581587</td>\n",
       "      <td>23254</td>\n",
       "      <td>CHILDRENS CUTLERY DOLLY GIRL</td>\n",
       "      <td>4</td>\n",
       "      <td>2011-12-09 12:50:00</td>\n",
       "      <td>4.15</td>\n",
       "      <td>12680.0</td>\n",
       "      <td>France</td>\n",
       "    </tr>\n",
       "    <tr>\n",
       "      <th>541907</th>\n",
       "      <td>581587</td>\n",
       "      <td>23255</td>\n",
       "      <td>CHILDRENS CUTLERY CIRCUS PARADE</td>\n",
       "      <td>4</td>\n",
       "      <td>2011-12-09 12:50:00</td>\n",
       "      <td>4.15</td>\n",
       "      <td>12680.0</td>\n",
       "      <td>France</td>\n",
       "    </tr>\n",
       "    <tr>\n",
       "      <th>541908</th>\n",
       "      <td>581587</td>\n",
       "      <td>22138</td>\n",
       "      <td>BAKING SET 9 PIECE RETROSPOT</td>\n",
       "      <td>3</td>\n",
       "      <td>2011-12-09 12:50:00</td>\n",
       "      <td>4.95</td>\n",
       "      <td>12680.0</td>\n",
       "      <td>France</td>\n",
       "    </tr>\n",
       "  </tbody>\n",
       "</table>\n",
       "<p>530104 rows × 8 columns</p>\n",
       "</div>"
      ],
      "text/plain": [
       "       InvoiceNo StockCode                          Description  Quantity  \\\n",
       "0         536365    85123A   WHITE HANGING HEART T-LIGHT HOLDER         6   \n",
       "1         536365     71053                  WHITE METAL LANTERN         6   \n",
       "2         536365    84406B       CREAM CUPID HEARTS COAT HANGER         8   \n",
       "3         536365    84029G  KNITTED UNION FLAG HOT WATER BOTTLE         6   \n",
       "4         536365    84029E       RED WOOLLY HOTTIE WHITE HEART.         6   \n",
       "5         536365     22752         SET 7 BABUSHKA NESTING BOXES         2   \n",
       "6         536365     21730    GLASS STAR FROSTED T-LIGHT HOLDER         6   \n",
       "7         536366     22633               HAND WARMER UNION JACK         6   \n",
       "8         536366     22632            HAND WARMER RED POLKA DOT         6   \n",
       "9         536367     84879        ASSORTED COLOUR BIRD ORNAMENT        32   \n",
       "10        536367     22745           POPPY'S PLAYHOUSE BEDROOM          6   \n",
       "11        536367     22748            POPPY'S PLAYHOUSE KITCHEN         6   \n",
       "12        536367     22749    FELTCRAFT PRINCESS CHARLOTTE DOLL         8   \n",
       "13        536367     22310              IVORY KNITTED MUG COSY          6   \n",
       "14        536367     84969   BOX OF 6 ASSORTED COLOUR TEASPOONS         6   \n",
       "15        536367     22623        BOX OF VINTAGE JIGSAW BLOCKS          3   \n",
       "16        536367     22622       BOX OF VINTAGE ALPHABET BLOCKS         2   \n",
       "17        536367     21754             HOME BUILDING BLOCK WORD         3   \n",
       "18        536367     21755             LOVE BUILDING BLOCK WORD         3   \n",
       "19        536367     21777          RECIPE BOX WITH METAL HEART         4   \n",
       "20        536367     48187                  DOORMAT NEW ENGLAND         4   \n",
       "21        536368     22960             JAM MAKING SET WITH JARS         6   \n",
       "22        536368     22913          RED COAT RACK PARIS FASHION         3   \n",
       "23        536368     22912       YELLOW COAT RACK PARIS FASHION         3   \n",
       "24        536368     22914         BLUE COAT RACK PARIS FASHION         3   \n",
       "25        536369     21756             BATH BUILDING BLOCK WORD         3   \n",
       "26        536370     22728            ALARM CLOCK BAKELIKE PINK        24   \n",
       "27        536370     22727            ALARM CLOCK BAKELIKE RED         24   \n",
       "28        536370     22726           ALARM CLOCK BAKELIKE GREEN        12   \n",
       "29        536370     21724      PANDA AND BUNNIES STICKER SHEET        12   \n",
       "...          ...       ...                                  ...       ...   \n",
       "541879    581585     22726           ALARM CLOCK BAKELIKE GREEN         8   \n",
       "541880    581585     22727            ALARM CLOCK BAKELIKE RED          4   \n",
       "541881    581585     16016          LARGE CHINESE STYLE SCISSOR        10   \n",
       "541882    581585     21916      SET 12 RETRO WHITE CHALK STICKS        24   \n",
       "541883    581585     84692          BOX OF 24 COCKTAIL PARASOLS        25   \n",
       "541884    581585     84946         ANTIQUE SILVER T-LIGHT GLASS        12   \n",
       "541885    581585     21684     SMALL MEDINA STAMPED METAL BOWL         12   \n",
       "541886    581585     22398           MAGNETS PACK OF 4 SWALLOWS        12   \n",
       "541887    581585     23328   SET 6 SCHOOL MILK BOTTLES IN CRATE         4   \n",
       "541888    581585     23145       ZINC T-LIGHT HOLDER STAR LARGE        12   \n",
       "541889    581585     22466       FAIRY TALE COTTAGE NIGHT LIGHT        12   \n",
       "541890    581586     22061  LARGE CAKE STAND  HANGING STRAWBERY         8   \n",
       "541891    581586     23275     SET OF 3 HANGING OWLS OLLIE BEAK        24   \n",
       "541892    581586     21217        RED RETROSPOT ROUND CAKE TINS        24   \n",
       "541893    581586     20685                DOORMAT RED RETROSPOT        10   \n",
       "541894    581587     22631             CIRCUS PARADE LUNCH BOX         12   \n",
       "541895    581587     22556       PLASTERS IN TIN CIRCUS PARADE         12   \n",
       "541896    581587     22555            PLASTERS IN TIN STRONGMAN        12   \n",
       "541897    581587     22728            ALARM CLOCK BAKELIKE PINK         4   \n",
       "541898    581587     22727            ALARM CLOCK BAKELIKE RED          4   \n",
       "541899    581587     22726           ALARM CLOCK BAKELIKE GREEN         4   \n",
       "541900    581587     22730           ALARM CLOCK BAKELIKE IVORY         4   \n",
       "541901    581587     22367      CHILDRENS APRON SPACEBOY DESIGN         8   \n",
       "541902    581587     22629                  SPACEBOY LUNCH BOX         12   \n",
       "541903    581587     23256          CHILDRENS CUTLERY SPACEBOY          4   \n",
       "541904    581587     22613          PACK OF 20 SPACEBOY NAPKINS        12   \n",
       "541905    581587     22899         CHILDREN'S APRON DOLLY GIRL          6   \n",
       "541906    581587     23254        CHILDRENS CUTLERY DOLLY GIRL          4   \n",
       "541907    581587     23255      CHILDRENS CUTLERY CIRCUS PARADE         4   \n",
       "541908    581587     22138        BAKING SET 9 PIECE RETROSPOT          3   \n",
       "\n",
       "               InvoiceDate  UnitPrice  CustomerID         Country  \n",
       "0      2010-12-01 08:26:00       2.55     17850.0  United Kingdom  \n",
       "1      2010-12-01 08:26:00       3.39     17850.0  United Kingdom  \n",
       "2      2010-12-01 08:26:00       2.75     17850.0  United Kingdom  \n",
       "3      2010-12-01 08:26:00       3.39     17850.0  United Kingdom  \n",
       "4      2010-12-01 08:26:00       3.39     17850.0  United Kingdom  \n",
       "5      2010-12-01 08:26:00       7.65     17850.0  United Kingdom  \n",
       "6      2010-12-01 08:26:00       4.25     17850.0  United Kingdom  \n",
       "7      2010-12-01 08:28:00       1.85     17850.0  United Kingdom  \n",
       "8      2010-12-01 08:28:00       1.85     17850.0  United Kingdom  \n",
       "9      2010-12-01 08:34:00       1.69     13047.0  United Kingdom  \n",
       "10     2010-12-01 08:34:00       2.10     13047.0  United Kingdom  \n",
       "11     2010-12-01 08:34:00       2.10     13047.0  United Kingdom  \n",
       "12     2010-12-01 08:34:00       3.75     13047.0  United Kingdom  \n",
       "13     2010-12-01 08:34:00       1.65     13047.0  United Kingdom  \n",
       "14     2010-12-01 08:34:00       4.25     13047.0  United Kingdom  \n",
       "15     2010-12-01 08:34:00       4.95     13047.0  United Kingdom  \n",
       "16     2010-12-01 08:34:00       9.95     13047.0  United Kingdom  \n",
       "17     2010-12-01 08:34:00       5.95     13047.0  United Kingdom  \n",
       "18     2010-12-01 08:34:00       5.95     13047.0  United Kingdom  \n",
       "19     2010-12-01 08:34:00       7.95     13047.0  United Kingdom  \n",
       "20     2010-12-01 08:34:00       7.95     13047.0  United Kingdom  \n",
       "21     2010-12-01 08:34:00       4.25     13047.0  United Kingdom  \n",
       "22     2010-12-01 08:34:00       4.95     13047.0  United Kingdom  \n",
       "23     2010-12-01 08:34:00       4.95     13047.0  United Kingdom  \n",
       "24     2010-12-01 08:34:00       4.95     13047.0  United Kingdom  \n",
       "25     2010-12-01 08:35:00       5.95     13047.0  United Kingdom  \n",
       "26     2010-12-01 08:45:00       3.75     12583.0          France  \n",
       "27     2010-12-01 08:45:00       3.75     12583.0          France  \n",
       "28     2010-12-01 08:45:00       3.75     12583.0          France  \n",
       "29     2010-12-01 08:45:00       0.85     12583.0          France  \n",
       "...                    ...        ...         ...             ...  \n",
       "541879 2011-12-09 12:31:00       3.75     15804.0  United Kingdom  \n",
       "541880 2011-12-09 12:31:00       3.75     15804.0  United Kingdom  \n",
       "541881 2011-12-09 12:31:00       0.85     15804.0  United Kingdom  \n",
       "541882 2011-12-09 12:31:00       0.42     15804.0  United Kingdom  \n",
       "541883 2011-12-09 12:31:00       0.42     15804.0  United Kingdom  \n",
       "541884 2011-12-09 12:31:00       1.25     15804.0  United Kingdom  \n",
       "541885 2011-12-09 12:31:00       0.85     15804.0  United Kingdom  \n",
       "541886 2011-12-09 12:31:00       0.39     15804.0  United Kingdom  \n",
       "541887 2011-12-09 12:31:00       3.75     15804.0  United Kingdom  \n",
       "541888 2011-12-09 12:31:00       0.95     15804.0  United Kingdom  \n",
       "541889 2011-12-09 12:31:00       1.95     15804.0  United Kingdom  \n",
       "541890 2011-12-09 12:49:00       2.95     13113.0  United Kingdom  \n",
       "541891 2011-12-09 12:49:00       1.25     13113.0  United Kingdom  \n",
       "541892 2011-12-09 12:49:00       8.95     13113.0  United Kingdom  \n",
       "541893 2011-12-09 12:49:00       7.08     13113.0  United Kingdom  \n",
       "541894 2011-12-09 12:50:00       1.95     12680.0          France  \n",
       "541895 2011-12-09 12:50:00       1.65     12680.0          France  \n",
       "541896 2011-12-09 12:50:00       1.65     12680.0          France  \n",
       "541897 2011-12-09 12:50:00       3.75     12680.0          France  \n",
       "541898 2011-12-09 12:50:00       3.75     12680.0          France  \n",
       "541899 2011-12-09 12:50:00       3.75     12680.0          France  \n",
       "541900 2011-12-09 12:50:00       3.75     12680.0          France  \n",
       "541901 2011-12-09 12:50:00       1.95     12680.0          France  \n",
       "541902 2011-12-09 12:50:00       1.95     12680.0          France  \n",
       "541903 2011-12-09 12:50:00       4.15     12680.0          France  \n",
       "541904 2011-12-09 12:50:00       0.85     12680.0          France  \n",
       "541905 2011-12-09 12:50:00       2.10     12680.0          France  \n",
       "541906 2011-12-09 12:50:00       4.15     12680.0          France  \n",
       "541907 2011-12-09 12:50:00       4.15     12680.0          France  \n",
       "541908 2011-12-09 12:50:00       4.95     12680.0          France  \n",
       "\n",
       "[530104 rows x 8 columns]"
      ]
     },
     "execution_count": 28,
     "metadata": {},
     "output_type": "execute_result"
    }
   ],
   "source": [
    "data"
   ]
  },
  {
   "cell_type": "markdown",
   "metadata": {},
   "source": [
    "We definitely do not intend to use InvoiceNo or StockCode  as  contexts. Description can be the context, if we do some subtle natural language processing and divide the data into categories. However, the most feasible contexts here are Country and CustomerID, as well as InvoiceDate."
   ]
  },
  {
   "cell_type": "code",
   "execution_count": 29,
   "metadata": {
    "collapsed": false
   },
   "outputs": [
    {
     "data": {
      "text/plain": [
       "United Kingdom          485123\n",
       "Germany                   9040\n",
       "France                    8407\n",
       "EIRE                      7890\n",
       "Spain                     2484\n",
       "Netherlands               2359\n",
       "Belgium                   2031\n",
       "Switzerland               1966\n",
       "Portugal                  1501\n",
       "Australia                 1182\n",
       "Norway                    1071\n",
       "Italy                      758\n",
       "Channel Islands            748\n",
       "Finland                    685\n",
       "Cyprus                     614\n",
       "Sweden                     451\n",
       "Unspecified                446\n",
       "Austria                    398\n",
       "Denmark                    380\n",
       "Poland                     330\n",
       "Japan                      321\n",
       "Israel                     295\n",
       "Hong Kong                  284\n",
       "Singapore                  222\n",
       "Iceland                    182\n",
       "USA                        179\n",
       "Canada                     151\n",
       "Greece                     145\n",
       "Malta                      112\n",
       "United Arab Emirates        68\n",
       "European Community          60\n",
       "RSA                         57\n",
       "Lebanon                     45\n",
       "Lithuania                   35\n",
       "Brazil                      32\n",
       "Czech Republic              25\n",
       "Bahrain                     18\n",
       "Saudi Arabia                 9\n",
       "Name: Country, dtype: int64"
      ]
     },
     "execution_count": 29,
     "metadata": {},
     "output_type": "execute_result"
    }
   ],
   "source": [
    "data.Country.value_counts()"
   ]
  },
  {
   "cell_type": "markdown",
   "metadata": {},
   "source": [
    "Well, we can find outliers in several most presented countries."
   ]
  },
  {
   "cell_type": "code",
   "execution_count": 30,
   "metadata": {
    "collapsed": false
   },
   "outputs": [],
   "source": [
    "data_uk = data[data.Country == \"United Kingdom\"].drop(\"Country\", axis=1)"
   ]
  },
  {
   "cell_type": "code",
   "execution_count": 31,
   "metadata": {
    "collapsed": false
   },
   "outputs": [
    {
     "data": {
      "image/png": "[encoded data removed]",
      "text/plain": [
       "<matplotlib.figure.Figure at 0x7fb2522cb9e8>"
      ]
     },
     "metadata": {},
     "output_type": "display_data"
    }
   ],
   "source": [
    "fig = plt.figure(figsize=(12, 12))\n",
    "ax = fig.add_subplot(111)\n",
    "plt.plot(data_uk[\"UnitPrice\"], data_uk[\"Quantity\"], linestyle='', marker='o', alpha=.2);\n",
    "ax.set_xlim(-1000, 14000)\n",
    "ax.set_ylim(-1000, 90000)\n",
    "ax.set_xlabel(\"UnitPrice\");\n",
    "ax.set_ylabel(\"Quantity\");"
   ]
  },
  {
   "cell_type": "markdown",
   "metadata": {},
   "source": [
    "Looks very similar to the entire dataset (not surprisingly). Therefore, outliers will remain."
   ]
  },
  {
   "cell_type": "code",
   "execution_count": 32,
   "metadata": {
    "collapsed": true
   },
   "outputs": [],
   "source": [
    "data_de = data[data.Country == \"Germany\"].drop(\"Country\", axis=1)"
   ]
  },
  {
   "cell_type": "code",
   "execution_count": 33,
   "metadata": {
    "collapsed": false
   },
   "outputs": [
    {
     "data": {
      "image/png": "[encoded data removed]",
      "text/plain": [
       "<matplotlib.figure.Figure at 0x7fb24d08b860>"
      ]
     },
     "metadata": {},
     "output_type": "display_data"
    }
   ],
   "source": [
    "fig = plt.figure(figsize=(12, 12))\n",
    "ax = fig.add_subplot(111)\n",
    "plt.plot(data_de[\"UnitPrice\"], data_de[\"Quantity\"], linestyle='', marker='o', alpha=.2);\n",
    "ax.set_xlim(-50, 800)\n",
    "ax.set_ylim(-50, 800)\n",
    "ax.set_xlabel(\"UnitPrice\");\n",
    "ax.set_ylabel(\"Quantity\");"
   ]
  },
  {
   "cell_type": "markdown",
   "metadata": {},
   "source": [
    "Well, very interesting. For sure we can say, that points with UnitPrice > 200 or Quantity > 200 are contextual outliers where context is \"Country == Germany\"."
   ]
  },
  {
   "cell_type": "code",
   "execution_count": 34,
   "metadata": {
    "collapsed": false
   },
   "outputs": [
    {
     "name": "stdout",
     "output_type": "stream",
     "text": [
      "-8944.5944128\n",
      "-1198.66332078\n",
      "-581.268117188\n",
      "-412.244514957\n",
      "-322.849315783\n",
      "-242.792655895\n",
      "-236.551069552\n",
      "-244.668273236\n"
     ]
    }
   ],
   "source": [
    "qtrain, qvalidate = train_test_split(data_de.Quantity.values)\n",
    "\n",
    "for bandwidth in [1, 3, 5, 7, 10, 30, 100, 150]:\n",
    "    kd = KernelDensity(bandwidth=bandwidth)\n",
    "    kd.fit(np.expand_dims(qtrain, 1))\n",
    "    dqv = np.unique(qvalidate)\n",
    "    print(kd.score(np.expand_dims(dqv, 1)))"
   ]
  },
  {
   "cell_type": "code",
   "execution_count": 35,
   "metadata": {
    "collapsed": true
   },
   "outputs": [],
   "source": [
    "kd = KernelDensity(bandwidth=30)\n",
    "kd.fit(np.expand_dims(data_de.Quantity.values, 1))\n",
    "dqv = np.unique(data_de.Quantity.values)\n",
    "log_pdf = kd.score_samples(np.expand_dims(dqv, 1))"
   ]
  },
  {
   "cell_type": "code",
   "execution_count": 36,
   "metadata": {
    "collapsed": false
   },
   "outputs": [
    {
     "data": {
      "text/plain": [
       "(9040, 7)"
      ]
     },
     "execution_count": 36,
     "metadata": {},
     "output_type": "execute_result"
    }
   ],
   "source": [
    "data_de.shape"
   ]
  },
  {
   "cell_type": "code",
   "execution_count": 37,
   "metadata": {
    "collapsed": false,
    "scrolled": false
   },
   "outputs": [
    {
     "data": {
      "image/png": "[encoded data removed]",
      "text/plain": [
       "<matplotlib.figure.Figure at 0x7fb24f7b3080>"
      ]
     },
     "metadata": {},
     "output_type": "display_data"
    }
   ],
   "source": [
    "q = data_de.Quantity\n",
    "p = data_de.UnitPrice\n",
    "# For sure, here we set far lower threshold, because there are far less examples.\n",
    "outlier_quantity = dqv[np.exp(log_pdf) < 0.00005]\n",
    "outliers_sel = np.vectorize(lambda x: x in outlier_quantity)(q)\n",
    "fig = plt.figure(figsize=(14, 14))\n",
    "ax = fig.add_subplot(111)\n",
    "plt.plot(p, q, linestyle='', marker='o', alpha=.2);\n",
    "plt.plot(p[outliers_sel], q[outliers_sel], linestyle='', marker='o', alpha=.2, color='r');\n",
    "ax.set_xlim(-50, 800)\n",
    "ax.set_ylim(-50, 800)\n",
    "ax.set_xlabel(\"UnitPrice\");\n",
    "ax.set_ylabel(\"Quantity\");"
   ]
  },
  {
   "cell_type": "code",
   "execution_count": 38,
   "metadata": {
    "collapsed": false
   },
   "outputs": [
    {
     "name": "stdout",
     "output_type": "stream",
     "text": [
      "-837.364259977\n",
      "-324.155889836\n",
      "-292.774548583\n",
      "-290.364814137\n",
      "-296.438142924\n",
      "-390.380471966\n",
      "-435.506627242\n",
      "-461.316033132\n",
      "-481.419375858\n"
     ]
    }
   ],
   "source": [
    "ptrain, pvalidate = train_test_split(data_de.UnitPrice.values)\n",
    "\n",
    "for bandwidth in [1, 3, 5, 7, 10, 50, 100, 150, 200]:\n",
    "    kd = KernelDensity(bandwidth=bandwidth)\n",
    "    kd.fit(np.expand_dims(ptrain, 1))\n",
    "    dpv = np.unique(pvalidate)\n",
    "    print(kd.score(np.expand_dims(dpv, 1)))"
   ]
  },
  {
   "cell_type": "code",
   "execution_count": 39,
   "metadata": {
    "collapsed": true
   },
   "outputs": [],
   "source": [
    "kd = KernelDensity(bandwidth=50)\n",
    "kd.fit(np.expand_dims(data_de.UnitPrice.values, 1))\n",
    "dpv = np.unique(data_de.UnitPrice.values)\n",
    "log_pdf = kd.score_samples(np.expand_dims(dpv, 1))"
   ]
  },
  {
   "cell_type": "code",
   "execution_count": 40,
   "metadata": {
    "collapsed": false
   },
   "outputs": [
    {
     "data": {
      "image/png": "[encoded data removed]",
      "text/plain": [
       "<matplotlib.figure.Figure at 0x7fb251018e80>"
      ]
     },
     "metadata": {},
     "output_type": "display_data"
    }
   ],
   "source": [
    "q = data_de.Quantity\n",
    "p = data_de.UnitPrice\n",
    "outlier_unitprice = dpv[np.exp(log_pdf) < 0.00005]\n",
    "outliers_sel = np.vectorize(lambda x: x in outlier_unitprice)(p)\n",
    "fig = plt.figure(figsize=(14, 14))\n",
    "ax = fig.add_subplot(111)\n",
    "plt.plot(p, q, linestyle='', marker='o', alpha=.2);\n",
    "plt.plot(p[outliers_sel], q[outliers_sel], linestyle='', marker='o', alpha=.2, color='r');\n",
    "ax.set_xlim(-50, 800)\n",
    "ax.set_ylim(-50, 800)\n",
    "ax.set_xlabel(\"UnitPrice\");\n",
    "ax.set_ylabel(\"Quantity\");"
   ]
  },
  {
   "cell_type": "markdown",
   "metadata": {},
   "source": [
    "We can do the same for all countries, but the idea will stay the same. We can define 'outlierness' as inverted product of estimated (by KDE) probability of this object belonging to the main distribution and number of samples:"
   ]
  },
  {
   "cell_type": "markdown",
   "metadata": {},
   "source": [
    "$$\n",
    "Score(x) = \\frac{1}{N * p(x)}\\\\\n",
    "$$"
   ]
  },
  {
   "cell_type": "markdown",
   "metadata": {},
   "source": [
    "Let's take year as context."
   ]
  },
  {
   "cell_type": "code",
   "execution_count": 41,
   "metadata": {
    "collapsed": false
   },
   "outputs": [
    {
     "data": {
      "text/plain": [
       "2010"
      ]
     },
     "execution_count": 41,
     "metadata": {},
     "output_type": "execute_result"
    }
   ],
   "source": [
    "data.InvoiceDate[0].year"
   ]
  },
  {
   "cell_type": "code",
   "execution_count": 42,
   "metadata": {
    "collapsed": false
   },
   "outputs": [],
   "source": [
    "year_column = data.InvoiceDate.apply(lambda d: d.year)\n",
    "year_column.name = \"Year\"\n",
    "data_year = pd.concat([data, year_column], axis=1)"
   ]
  },
  {
   "cell_type": "code",
   "execution_count": 43,
   "metadata": {
    "collapsed": false
   },
   "outputs": [],
   "source": [
    "data_2010 = data.ix[data_year.groupby(\"Year\").groups[2010]]"
   ]
  },
  {
   "cell_type": "code",
   "execution_count": 44,
   "metadata": {
    "collapsed": false
   },
   "outputs": [
    {
     "data": {
      "text/plain": [
       "(41480, 8)"
      ]
     },
     "execution_count": 44,
     "metadata": {},
     "output_type": "execute_result"
    }
   ],
   "source": [
    "data_2010.shape"
   ]
  },
  {
   "cell_type": "code",
   "execution_count": 45,
   "metadata": {
    "collapsed": false
   },
   "outputs": [
    {
     "data": {
      "image/png": "[encoded data removed]",
      "text/plain": [
       "<matplotlib.figure.Figure at 0x7fb24a0b9a90>"
      ]
     },
     "metadata": {},
     "output_type": "display_data"
    }
   ],
   "source": [
    "fig = plt.figure(figsize=(12, 12))\n",
    "ax = fig.add_subplot(111)\n",
    "plt.plot(data_2010[\"UnitPrice\"], data_2010[\"Quantity\"], linestyle='', marker='o', alpha=.2);\n",
    "ax.set_xlim(-100, 1500)\n",
    "ax.set_ylim(-100, 3000)\n",
    "ax.set_xlabel(\"UnitPrice\");\n",
    "ax.set_ylabel(\"Quantity\");"
   ]
  },
  {
   "cell_type": "code",
   "execution_count": 46,
   "metadata": {
    "collapsed": false
   },
   "outputs": [
    {
     "name": "stdout",
     "output_type": "stream",
     "text": [
      "-10196.4777284\n",
      "-757.291176283\n",
      "-637.312406671\n",
      "-607.27327377\n",
      "-609.319393799\n",
      "-617.768879316\n"
     ]
    },
    {
     "data": {
      "image/png": "[encoded data removed]",
      "text/plain": [
       "<matplotlib.figure.Figure at 0x7fb24e3125f8>"
      ]
     },
     "metadata": {},
     "output_type": "display_data"
    }
   ],
   "source": [
    "qtrain, qvalidate = train_test_split(data_2010.Quantity.values)\n",
    "opt_bandwidth = 1\n",
    "opt_score = -1e+9\n",
    "\n",
    "for bandwidth in [1, 10, 30, 100, 150, 200]:\n",
    "    kd = KernelDensity(bandwidth=bandwidth)\n",
    "    kd.fit(np.expand_dims(qtrain, 1))\n",
    "    dqv = np.unique(qvalidate)\n",
    "    score = kd.score(np.expand_dims(dqv, 1))\n",
    "    print(score)\n",
    "    if score > opt_score:\n",
    "        opt_score = score\n",
    "        opt_bandwidth = bandwidth\n",
    "    \n",
    "kd = KernelDensity(bandwidth=opt_bandwidth)\n",
    "kd.fit(np.expand_dims(data_2010.Quantity.values, 1))\n",
    "dqv = np.unique(data_2010.Quantity.values)\n",
    "log_pdf = kd.score_samples(np.expand_dims(dqv, 1))\n",
    "\n",
    "q = data_2010.Quantity\n",
    "p = data_2010.UnitPrice\n",
    "# For sure, here we set far lower threshold, because there are far less examples.\n",
    "outlier_quantity = dqv[np.exp(log_pdf) < 0.0001]\n",
    "outliers_sel = np.vectorize(lambda x: x in outlier_quantity)(q)\n",
    "fig = plt.figure(figsize=(14, 14))\n",
    "ax = fig.add_subplot(111)\n",
    "plt.plot(p, q, linestyle='', marker='o', alpha=.2);\n",
    "plt.plot(p[outliers_sel], q[outliers_sel], linestyle='', marker='o', alpha=.2, color='r');\n",
    "ax.set_xlim(-50, 800)\n",
    "ax.set_ylim(-50, 800)\n",
    "ax.set_xlabel(\"UnitPrice\");\n",
    "ax.set_ylabel(\"Quantity\");"
   ]
  },
  {
   "cell_type": "code",
   "execution_count": 47,
   "metadata": {
    "collapsed": false
   },
   "outputs": [
    {
     "name": "stdout",
     "output_type": "stream",
     "text": [
      "-4737.85823295\n",
      "-1099.91862239\n",
      "-1287.78320639\n",
      "-1403.7123666\n",
      "-1525.74033692\n"
     ]
    },
    {
     "data": {
      "image/png": "[encoded data removed]",
      "text/plain": [
       "<matplotlib.figure.Figure at 0x7fb24adec908>"
      ]
     },
     "metadata": {},
     "output_type": "display_data"
    }
   ],
   "source": [
    "ptrain, pvalidate = train_test_split(data_2010.UnitPrice.values)\n",
    "opt_bandwidth = 1\n",
    "opt_score = -1e+9\n",
    "\n",
    "for bandwidth in [1, 100, 500, 1000, 2000]:\n",
    "    kd = KernelDensity(bandwidth=bandwidth)\n",
    "    kd.fit(np.expand_dims(ptrain, 1))\n",
    "    dpv = np.unique(pvalidate)\n",
    "    score = kd.score(np.expand_dims(dpv, 1))\n",
    "    print(score)\n",
    "    if score > opt_score:\n",
    "        opt_score = score\n",
    "        opt_bandwidth = bandwidth\n",
    "    \n",
    "kd = KernelDensity(bandwidth=opt_bandwidth)\n",
    "kd.fit(np.expand_dims(data_2010.UnitPrice.values, 1))\n",
    "dpv = np.unique(data_2010.UnitPrice.values)\n",
    "log_pdf = kd.score_samples(np.expand_dims(dpv, 1))\n",
    "\n",
    "q = data_2010.Quantity\n",
    "p = data_2010.UnitPrice\n",
    "# For sure, here we set far lower threshold, because there are far less examples.\n",
    "outlier_price = dpv[np.exp(log_pdf) < 0.0001]\n",
    "outliers_sel = np.vectorize(lambda x: x in outlier_price)(p)\n",
    "fig = plt.figure(figsize=(14, 14))\n",
    "ax = fig.add_subplot(111)\n",
    "plt.plot(p, q, linestyle='', marker='o', alpha=.2);\n",
    "plt.plot(p[outliers_sel], q[outliers_sel], linestyle='', marker='o', alpha=.2, color='r');\n",
    "ax.set_xlim(-50, 800)\n",
    "ax.set_ylim(-50, 800)\n",
    "ax.set_xlabel(\"UnitPrice\");\n",
    "ax.set_ylabel(\"Quantity\");"
   ]
  },
  {
   "cell_type": "markdown",
   "metadata": {},
   "source": [
    "The same procedures can be applied to other years."
   ]
  },
  {
   "cell_type": "markdown",
   "metadata": {},
   "source": [
    "### Collective ouliers detection."
   ]
  },
  {
   "cell_type": "markdown",
   "metadata": {},
   "source": [
    "There are many possible ways to detect collective outliers, one of them is using clustering approach. We have about half a million examples, so cluster having 3 points is not cluster at all. We need to set some hand-crafted minimum here, so let it be 30 points. The data have simple structure, so we probably do not need some subtle techniques for clustering. Let's use kmeans."
   ]
  },
  {
   "cell_type": "code",
   "execution_count": 69,
   "metadata": {
    "collapsed": false
   },
   "outputs": [
    {
     "data": {
      "image/png": "[encoded data removed]",
      "text/plain": [
       "<matplotlib.figure.Figure at 0x7fb24812af60>"
      ]
     },
     "metadata": {},
     "output_type": "display_data"
    }
   ],
   "source": [
    "plt.plot(data[\"UnitPrice\"], data[\"Quantity\"], linestyle='', marker='o');"
   ]
  },
  {
   "cell_type": "code",
   "execution_count": 63,
   "metadata": {
    "collapsed": false
   },
   "outputs": [],
   "source": [
    "groups_dict = data[[\"UnitPrice\", \"Quantity\"]].groupby([\"UnitPrice\", \"Quantity\"]).groups"
   ]
  },
  {
   "cell_type": "code",
   "execution_count": 71,
   "metadata": {
    "collapsed": false
   },
   "outputs": [],
   "source": [
    "distinct_values = np.array(list(groups_dict.keys()))"
   ]
  },
  {
   "cell_type": "code",
   "execution_count": 72,
   "metadata": {
    "collapsed": false
   },
   "outputs": [
    {
     "data": {
      "text/plain": [
       "(6450, 2)"
      ]
     },
     "execution_count": 72,
     "metadata": {},
     "output_type": "execute_result"
    }
   ],
   "source": [
    "distinct_values.shape"
   ]
  },
  {
   "cell_type": "code",
   "execution_count": 77,
   "metadata": {
    "collapsed": false
   },
   "outputs": [
    {
     "data": {
      "text/plain": [
       "13541.33"
      ]
     },
     "execution_count": 77,
     "metadata": {},
     "output_type": "execute_result"
    }
   ],
   "source": [
    "distinct_values[:, 0].max()"
   ]
  },
  {
   "cell_type": "code",
   "execution_count": 145,
   "metadata": {
    "collapsed": true
   },
   "outputs": [],
   "source": [
    "dbscan = DBSCAN(eps=80, min_samples=5)\n",
    "clusters = dbscan.fit_predict(distinct_values)"
   ]
  },
  {
   "cell_type": "code",
   "execution_count": 146,
   "metadata": {
    "collapsed": false
   },
   "outputs": [
    {
     "data": {
      "text/plain": [
       "array([-1,  0,  1,  2,  3,  4])"
      ]
     },
     "execution_count": 146,
     "metadata": {},
     "output_type": "execute_result"
    }
   ],
   "source": [
    "np.unique(clusters)"
   ]
  },
  {
   "cell_type": "code",
   "execution_count": 147,
   "metadata": {
    "collapsed": false
   },
   "outputs": [
    {
     "data": {
      "image/png": "[encoded data removed]",
      "text/plain": [
       "<matplotlib.figure.Figure at 0x7fb2492fc630>"
      ]
     },
     "metadata": {},
     "output_type": "display_data"
    }
   ],
   "source": [
    "fig = plt.figure(figsize=(12, 12))\n",
    "ax = fig.add_subplot(111)\n",
    "ax.set_xlim(-1000, 14000)\n",
    "ax.set_ylim(-1000, 90000)\n",
    "\n",
    "for cluster in np.unique(clusters):\n",
    "    if cluster == -1: # They are outilers\n",
    "        continue\n",
    "    plt.plot(distinct_values[clusters == cluster, 0], distinct_values[clusters == cluster, 1], \\\n",
    "             linestyle='', marker='o')"
   ]
  },
  {
   "cell_type": "markdown",
   "metadata": {},
   "source": [
    "Get rid of the two toppest points"
   ]
  },
  {
   "cell_type": "code",
   "execution_count": 148,
   "metadata": {
    "collapsed": false
   },
   "outputs": [
    {
     "data": {
      "image/png": "[encoded data removed]",
      "text/plain": [
       "<matplotlib.figure.Figure at 0x7fb24946f630>"
      ]
     },
     "metadata": {},
     "output_type": "display_data"
    }
   ],
   "source": [
    "fig = plt.figure(figsize=(12, 12))\n",
    "ax = fig.add_subplot(111)\n",
    "ax.set_xlim(-1000, 2000)\n",
    "ax.set_ylim(-1000, 3000)\n",
    "\n",
    "for cluster in np.unique(clusters):\n",
    "    if cluster == -1: # They are outilers\n",
    "        continue\n",
    "    plt.plot(distinct_values[clusters == cluster, 0], distinct_values[clusters == cluster, 1], \\\n",
    "             linestyle='', marker='o')"
   ]
  },
  {
   "cell_type": "markdown",
   "metadata": {},
   "source": [
    "Here we can see green cluster, as well as red and yellow, which can be considered as collective ouliers. Usually, using clustering for outlier detection is not very efficient, e.g. here there are 500k examples and DBSCAN builds matrix with size 500k by 500k. Clearly, it'll takes unfeasible amount of memory. However, there are only about 7k **distinct** values, so we can use DBSCAN. It works nice and is good enough for collective outlier detection."
   ]
  }
 ],
 "metadata": {
  "anaconda-cloud": {},
  "kernelspec": {
   "display_name": "Python [Root]",
   "language": "python",
   "name": "Python [Root]"
  }
 },
 "nbformat": 4,
 "nbformat_minor": 0
}
